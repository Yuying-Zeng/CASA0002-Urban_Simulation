{
 "cells": [
  {
   "cell_type": "code",
   "execution_count": 1,
   "id": "9daa0545-9307-47e4-a28f-b4a34956f988",
   "metadata": {},
   "outputs": [],
   "source": [
    "import networkx as nx\n",
    "import pandas as pd\n",
    "import numpy as np\n"
   ]
  },
  {
   "cell_type": "code",
   "execution_count": 2,
   "id": "b8142e33-4884-4e52-be3d-1b808cfc371d",
   "metadata": {},
   "outputs": [],
   "source": [
    "# Load the data\n",
    "data = pd.read_csv(\"london_flows.csv\")"
   ]
  },
  {
   "cell_type": "code",
   "execution_count": 3,
   "id": "cd83e022-de3e-4818-b273-6d4f2735afc0",
   "metadata": {},
   "outputs": [],
   "source": [
    "# Create graph object\n",
    "G = nx.from_pandas_edgelist(data, 'station_origin', 'station_destination')"
   ]
  },
  {
   "cell_type": "markdown",
   "id": "94dcf31f-40bc-408f-a5a9-54db64821986",
   "metadata": {},
   "source": [
    "### II.1"
   ]
  },
  {
   "cell_type": "markdown",
   "id": "f988006a-078d-4f7e-8ad1-2846b521642b",
   "metadata": {},
   "source": [
    "#### Weighted betweenness centrality"
   ]
  },
  {
   "cell_type": "code",
   "execution_count": 4,
   "id": "f2dc9142-7cf0-4e6b-b2b6-915e8988cf27",
   "metadata": {},
   "outputs": [],
   "source": [
    "# Compute betweenness centrality with edge weights\n",
    "bet_london_w = nx.betweenness_centrality(G, weight='flows',normalized=True)\n",
    "# We can add these values to the nodes attributes:\n",
    "nx.set_node_attributes(G,bet_london_w,'betweenness_w')"
   ]
  },
  {
   "cell_type": "code",
   "execution_count": 5,
   "id": "a89189c7-3608-46e7-be41-59341762a959",
   "metadata": {},
   "outputs": [
    {
     "data": {
      "text/html": [
       "<div>\n",
       "<style scoped>\n",
       "    .dataframe tbody tr th:only-of-type {\n",
       "        vertical-align: middle;\n",
       "    }\n",
       "\n",
       "    .dataframe tbody tr th {\n",
       "        vertical-align: top;\n",
       "    }\n",
       "\n",
       "    .dataframe thead th {\n",
       "        text-align: right;\n",
       "    }\n",
       "</style>\n",
       "<table border=\"1\" class=\"dataframe\">\n",
       "  <thead>\n",
       "    <tr style=\"text-align: right;\">\n",
       "      <th></th>\n",
       "      <th>betweenness_w</th>\n",
       "    </tr>\n",
       "  </thead>\n",
       "  <tbody>\n",
       "    <tr>\n",
       "      <th>Stratford</th>\n",
       "      <td>0.098553</td>\n",
       "    </tr>\n",
       "    <tr>\n",
       "      <th>Liverpool Street</th>\n",
       "      <td>0.034307</td>\n",
       "    </tr>\n",
       "    <tr>\n",
       "      <th>Canary Wharf</th>\n",
       "      <td>0.027956</td>\n",
       "    </tr>\n",
       "    <tr>\n",
       "      <th>Bank and Monument</th>\n",
       "      <td>0.027956</td>\n",
       "    </tr>\n",
       "    <tr>\n",
       "      <th>Canning Town</th>\n",
       "      <td>0.027757</td>\n",
       "    </tr>\n",
       "    <tr>\n",
       "      <th>West Ham</th>\n",
       "      <td>0.024551</td>\n",
       "    </tr>\n",
       "    <tr>\n",
       "      <th>Highbury &amp; Islington</th>\n",
       "      <td>0.023023</td>\n",
       "    </tr>\n",
       "    <tr>\n",
       "      <th>Whitechapel</th>\n",
       "      <td>0.019682</td>\n",
       "    </tr>\n",
       "    <tr>\n",
       "      <th>Canada Water</th>\n",
       "      <td>0.017898</td>\n",
       "    </tr>\n",
       "    <tr>\n",
       "      <th>Shadwell</th>\n",
       "      <td>0.017070</td>\n",
       "    </tr>\n",
       "  </tbody>\n",
       "</table>\n",
       "</div>"
      ],
      "text/plain": [
       "                      betweenness_w\n",
       "Stratford                  0.098553\n",
       "Liverpool Street           0.034307\n",
       "Canary Wharf               0.027956\n",
       "Bank and Monument          0.027956\n",
       "Canning Town               0.027757\n",
       "West Ham                   0.024551\n",
       "Highbury & Islington       0.023023\n",
       "Whitechapel                0.019682\n",
       "Canada Water               0.017898\n",
       "Shadwell                   0.017070"
      ]
     },
     "execution_count": 5,
     "metadata": {},
     "output_type": "execute_result"
    }
   ],
   "source": [
    "# To dataframe using the nodes as the index\n",
    "df = pd.DataFrame(index=G.nodes())\n",
    "df['betweenness_w'] = pd.Series(nx.get_node_attributes(G, 'betweenness_w'))\n",
    "\n",
    "df_sorted = df.sort_values([\"betweenness_w\"], ascending=False)\n",
    "df_sorted[0:10].head(10)"
   ]
  },
  {
   "cell_type": "markdown",
   "id": "ce3ff87a-c984-49d0-8449-22cf4dec4ffa",
   "metadata": {},
   "source": [
    "#### Closeness Centrality:"
   ]
  },
  {
   "cell_type": "code",
   "execution_count": 6,
   "id": "ce08261b-38d9-45ff-b1b1-4cc7cd2db5f1",
   "metadata": {},
   "outputs": [
    {
     "data": {
      "text/html": [
       "<div>\n",
       "<style scoped>\n",
       "    .dataframe tbody tr th:only-of-type {\n",
       "        vertical-align: middle;\n",
       "    }\n",
       "\n",
       "    .dataframe tbody tr th {\n",
       "        vertical-align: top;\n",
       "    }\n",
       "\n",
       "    .dataframe thead th {\n",
       "        text-align: right;\n",
       "    }\n",
       "</style>\n",
       "<table border=\"1\" class=\"dataframe\">\n",
       "  <thead>\n",
       "    <tr style=\"text-align: right;\">\n",
       "      <th></th>\n",
       "      <th>closeness_w</th>\n",
       "    </tr>\n",
       "  </thead>\n",
       "  <tbody>\n",
       "    <tr>\n",
       "      <th>Stratford</th>\n",
       "      <td>0.002331</td>\n",
       "    </tr>\n",
       "    <tr>\n",
       "      <th>Highbury &amp; Islington</th>\n",
       "      <td>0.002101</td>\n",
       "    </tr>\n",
       "    <tr>\n",
       "      <th>Whitechapel</th>\n",
       "      <td>0.002062</td>\n",
       "    </tr>\n",
       "    <tr>\n",
       "      <th>West Brompton</th>\n",
       "      <td>0.002053</td>\n",
       "    </tr>\n",
       "    <tr>\n",
       "      <th>Canada Water</th>\n",
       "      <td>0.002045</td>\n",
       "    </tr>\n",
       "    <tr>\n",
       "      <th>Richmond</th>\n",
       "      <td>0.002037</td>\n",
       "    </tr>\n",
       "    <tr>\n",
       "      <th>Canary Wharf</th>\n",
       "      <td>0.002037</td>\n",
       "    </tr>\n",
       "    <tr>\n",
       "      <th>Bank and Monument</th>\n",
       "      <td>0.002037</td>\n",
       "    </tr>\n",
       "    <tr>\n",
       "      <th>Liverpool Street</th>\n",
       "      <td>0.002033</td>\n",
       "    </tr>\n",
       "    <tr>\n",
       "      <th>Canning Town</th>\n",
       "      <td>0.002033</td>\n",
       "    </tr>\n",
       "  </tbody>\n",
       "</table>\n",
       "</div>"
      ],
      "text/plain": [
       "                      closeness_w\n",
       "Stratford                0.002331\n",
       "Highbury & Islington     0.002101\n",
       "Whitechapel              0.002062\n",
       "West Brompton            0.002053\n",
       "Canada Water             0.002045\n",
       "Richmond                 0.002037\n",
       "Canary Wharf             0.002037\n",
       "Bank and Monument        0.002037\n",
       "Liverpool Street         0.002033\n",
       "Canning Town             0.002033"
      ]
     },
     "execution_count": 6,
     "metadata": {},
     "output_type": "execute_result"
    }
   ],
   "source": [
    "# Calculate the shortest path lengths for all pairs of nodes in the weighted graph\n",
    "shortest_path_lengths = dict(nx.all_pairs_dijkstra_path_length(G, weight='flows'))\n",
    "\n",
    "# Compute the weighted closeness centrality for each node\n",
    "closeness_w = {}\n",
    "for node, path_lengths in shortest_path_lengths.items():\n",
    "    total_path_length = sum(path_lengths.values())\n",
    "    closeness_w[node] = 1 / total_path_length if total_path_length > 0 else 0\n",
    "\n",
    "# Add the weighted closeness centrality values to the graph nodes as attributes\n",
    "nx.set_node_attributes(G, closeness_w, 'closeness_w')\n",
    "\n",
    "# To ataframe using the nodes as the index\n",
    "df = pd.DataFrame(index=G.nodes())\n",
    "df['closeness_w'] = pd.Series(nx.get_node_attributes(G, 'closeness_w'))\n",
    "\n",
    "df_sorted = df.sort_values([\"closeness_w\"], ascending=False)\n",
    "df_sorted[0:10]"
   ]
  },
  {
   "cell_type": "markdown",
   "id": "2d46838f-1786-4b66-9be5-247982f72c36",
   "metadata": {},
   "source": [
    "#### II.2."
   ]
  },
  {
   "cell_type": "code",
   "execution_count": 14,
   "id": "5d4c7732-7bd8-4b8d-8dc9-63d0030cc83f",
   "metadata": {},
   "outputs": [],
   "source": [
    "# Create a weighted graph\n",
    "G_weighted = nx.DiGraph()"
   ]
  },
  {
   "cell_type": "code",
   "execution_count": 15,
   "id": "4f3da8a2-14bd-4732-bfb6-ebbf0142d50c",
   "metadata": {},
   "outputs": [],
   "source": [
    "# Iterate through the rows in the DataFrame and add edges with weights (passenger flows)\n",
    "for _, row in data.iterrows():\n",
    "    origin = row['station_origin']\n",
    "    destination = row['station_destination']\n",
    "    flow = row['flows']\n",
    "    G_weighted.add_edge(origin, destination, weight=1 / (flow if flow > 0 else 1))"
   ]
  },
  {
   "cell_type": "code",
   "execution_count": 16,
   "id": "0f70aa39-0871-41b9-af61-ccf4e7f6cf70",
   "metadata": {},
   "outputs": [],
   "source": [
    "# Function to calculate the total passenger weighted shortest path length\n",
    "def total_passenger_weighted_shortest_path_length(G):\n",
    "    total = 0\n",
    "    all_path_lengths = nx.all_pairs_dijkstra_path_length(G, weight='weight')\n",
    "    \n",
    "    for source, path_lengths in all_path_lengths:\n",
    "        for target, length in path_lengths.items():\n",
    "            if source != target:\n",
    "                total += length\n",
    "    \n",
    "    return total"
   ]
  },
  {
   "cell_type": "code",
   "execution_count": 17,
   "id": "e0a1164f-0bb0-4be4-96ee-a6caee5b54a4",
   "metadata": {},
   "outputs": [],
   "source": [
    "# Remove self-loops from the graph\n",
    "self_loops = list(nx.selfloop_edges(G_weighted))\n",
    "G_weighted.remove_edges_from(self_loops)"
   ]
  },
  {
   "cell_type": "code",
   "execution_count": 18,
   "id": "eb4713dd-3a10-44ce-ae9b-642217d8b237",
   "metadata": {},
   "outputs": [],
   "source": [
    "# Calculate the original total passenger weighted shortest path length\n",
    "original_total_weighted_spl = total_passenger_weighted_shortest_path_length(G_weighted)"
   ]
  },
  {
   "cell_type": "code",
   "execution_count": 19,
   "id": "fb12a549-8b9a-4778-880c-0b0dc1f6253c",
   "metadata": {},
   "outputs": [],
   "source": [
    "# Calculate the impact of node removal for the top 10 nodes from the previous step\n",
    "impact_list = []\n",
    "\n",
    "for node in df_sorted.index[:10]:\n",
    "    G_removed = G_weighted.copy()\n",
    "    G_removed.remove_node(node)\n",
    "    new_total_weighted_spl = total_passenger_weighted_shortest_path_length(G_removed)\n",
    "    impact = (new_total_weighted_spl - original_total_weighted_spl) / original_total_weighted_spl\n",
    "    impact_list.append((node, impact))"
   ]
  },
  {
   "cell_type": "code",
   "execution_count": 20,
   "id": "9161d5e0-779f-4b8c-8089-2a7c4a376ad5",
   "metadata": {},
   "outputs": [
    {
     "data": {
      "text/html": [
       "<div>\n",
       "<style scoped>\n",
       "    .dataframe tbody tr th:only-of-type {\n",
       "        vertical-align: middle;\n",
       "    }\n",
       "\n",
       "    .dataframe tbody tr th {\n",
       "        vertical-align: top;\n",
       "    }\n",
       "\n",
       "    .dataframe thead th {\n",
       "        text-align: right;\n",
       "    }\n",
       "</style>\n",
       "<table border=\"1\" class=\"dataframe\">\n",
       "  <thead>\n",
       "    <tr style=\"text-align: right;\">\n",
       "      <th></th>\n",
       "      <th>Node</th>\n",
       "      <th>Impact</th>\n",
       "    </tr>\n",
       "  </thead>\n",
       "  <tbody>\n",
       "    <tr>\n",
       "      <th>0</th>\n",
       "      <td>Stratford</td>\n",
       "      <td>0.133112</td>\n",
       "    </tr>\n",
       "    <tr>\n",
       "      <th>1</th>\n",
       "      <td>Canning Town</td>\n",
       "      <td>0.040794</td>\n",
       "    </tr>\n",
       "    <tr>\n",
       "      <th>2</th>\n",
       "      <td>Bank and Monument</td>\n",
       "      <td>0.027040</td>\n",
       "    </tr>\n",
       "    <tr>\n",
       "      <th>3</th>\n",
       "      <td>Canada Water</td>\n",
       "      <td>0.019615</td>\n",
       "    </tr>\n",
       "    <tr>\n",
       "      <th>4</th>\n",
       "      <td>Liverpool Street</td>\n",
       "      <td>0.016624</td>\n",
       "    </tr>\n",
       "    <tr>\n",
       "      <th>5</th>\n",
       "      <td>Whitechapel</td>\n",
       "      <td>0.008734</td>\n",
       "    </tr>\n",
       "    <tr>\n",
       "      <th>6</th>\n",
       "      <td>Canary Wharf</td>\n",
       "      <td>0.004836</td>\n",
       "    </tr>\n",
       "    <tr>\n",
       "      <th>7</th>\n",
       "      <td>Highbury &amp; Islington</td>\n",
       "      <td>0.002704</td>\n",
       "    </tr>\n",
       "    <tr>\n",
       "      <th>8</th>\n",
       "      <td>Richmond</td>\n",
       "      <td>0.001005</td>\n",
       "    </tr>\n",
       "    <tr>\n",
       "      <th>9</th>\n",
       "      <td>West Brompton</td>\n",
       "      <td>-0.003374</td>\n",
       "    </tr>\n",
       "  </tbody>\n",
       "</table>\n",
       "</div>"
      ],
      "text/plain": [
       "                   Node    Impact\n",
       "0             Stratford  0.133112\n",
       "1          Canning Town  0.040794\n",
       "2     Bank and Monument  0.027040\n",
       "3          Canada Water  0.019615\n",
       "4      Liverpool Street  0.016624\n",
       "5           Whitechapel  0.008734\n",
       "6          Canary Wharf  0.004836\n",
       "7  Highbury & Islington  0.002704\n",
       "8              Richmond  0.001005\n",
       "9         West Brompton -0.003374"
      ]
     },
     "execution_count": 20,
     "metadata": {},
     "output_type": "execute_result"
    }
   ],
   "source": [
    "# Create a DataFrame to display the results\n",
    "impact_df = pd.DataFrame(impact_list, columns=['Node', 'Impact'])\n",
    "impact_df.sort_values('Impact', ascending=False, inplace=True)\n",
    "impact_df.reset_index(drop=True, inplace=True)\n",
    "impact_df"
   ]
  },
  {
   "cell_type": "markdown",
   "id": "cd30efa9-75c0-474b-b793-cfec64d09602",
   "metadata": {},
   "source": [
    "### II.3"
   ]
  },
  {
   "cell_type": "code",
   "execution_count": 21,
   "id": "20effb27-e2c0-460b-a446-eafe294595c9",
   "metadata": {},
   "outputs": [],
   "source": [
    "# Top 3 nodes from betweenness centrality\n",
    "top_3_betweenness = ['Stratford', 'Liverpool Street', 'Canary Wharf']"
   ]
  },
  {
   "cell_type": "code",
   "execution_count": 22,
   "id": "6f38703c-c19e-4bfb-bf77-87ea0c06b64d",
   "metadata": {},
   "outputs": [],
   "source": [
    "# Function to calculate the total weighted shortest path length and global efficiency\n",
    "def total_weighted_shortest_path_length_and_global_efficiency(G):\n",
    "    total_spl = 0\n",
    "    total_inv_spl = 0\n",
    "    num_nodes = len(G.nodes())\n",
    "    all_path_lengths = nx.all_pairs_dijkstra_path_length(G, weight='weight')\n",
    "    \n",
    "    for source, path_lengths in all_path_lengths:\n",
    "        for target, length in path_lengths.items():\n",
    "            if source != target:\n",
    "                total_spl += length\n",
    "                total_inv_spl += 1 / length\n",
    "    \n",
    "    global_efficiency = total_inv_spl / (num_nodes * (num_nodes - 1))\n",
    "    return total_spl, global_efficiency"
   ]
  },
  {
   "cell_type": "code",
   "execution_count": 23,
   "id": "b486f8b7-2df4-4f11-94fa-697186149d58",
   "metadata": {},
   "outputs": [],
   "source": [
    "# Calculate the original total weighted shortest path length and global efficiency\n",
    "original_spl, original_ge = total_weighted_shortest_path_length_and_global_efficiency(G_weighted)\n"
   ]
  },
  {
   "cell_type": "code",
   "execution_count": 24,
   "id": "88a91000-e278-4111-8556-e522c4841180",
   "metadata": {},
   "outputs": [],
   "source": [
    "# Calculate the impact of node removal for the top 3 nodes from betweenness centrality\n",
    "impact_list = []\n",
    "\n",
    "for node in top_3_betweenness:\n",
    "    G_removed = G_weighted.copy()\n",
    "    G_removed.remove_node(node)\n",
    "    new_spl, new_ge = total_weighted_shortest_path_length_and_global_efficiency(G_removed)\n",
    "    spl_impact = (original_spl - new_spl) / original_spl\n",
    "    ge_impact = (original_ge - new_ge) / original_ge\n",
    "    impact_list.append((node, spl_impact, ge_impact))"
   ]
  },
  {
   "cell_type": "code",
   "execution_count": 25,
   "id": "1447bea5-ff45-4940-8f94-63d52f65cd75",
   "metadata": {},
   "outputs": [
    {
     "data": {
      "text/html": [
       "<div>\n",
       "<style scoped>\n",
       "    .dataframe tbody tr th:only-of-type {\n",
       "        vertical-align: middle;\n",
       "    }\n",
       "\n",
       "    .dataframe tbody tr th {\n",
       "        vertical-align: top;\n",
       "    }\n",
       "\n",
       "    .dataframe thead th {\n",
       "        text-align: right;\n",
       "    }\n",
       "</style>\n",
       "<table border=\"1\" class=\"dataframe\">\n",
       "  <thead>\n",
       "    <tr style=\"text-align: right;\">\n",
       "      <th></th>\n",
       "      <th>Node</th>\n",
       "      <th>SPL_Impact</th>\n",
       "      <th>Global_Efficiency_Impact</th>\n",
       "    </tr>\n",
       "  </thead>\n",
       "  <tbody>\n",
       "    <tr>\n",
       "      <th>0</th>\n",
       "      <td>Canary Wharf</td>\n",
       "      <td>-0.004836</td>\n",
       "      <td>0.021315</td>\n",
       "    </tr>\n",
       "    <tr>\n",
       "      <th>1</th>\n",
       "      <td>Liverpool Street</td>\n",
       "      <td>-0.016624</td>\n",
       "      <td>0.037101</td>\n",
       "    </tr>\n",
       "    <tr>\n",
       "      <th>2</th>\n",
       "      <td>Stratford</td>\n",
       "      <td>-0.133112</td>\n",
       "      <td>0.126392</td>\n",
       "    </tr>\n",
       "  </tbody>\n",
       "</table>\n",
       "</div>"
      ],
      "text/plain": [
       "               Node  SPL_Impact  Global_Efficiency_Impact\n",
       "0      Canary Wharf   -0.004836                  0.021315\n",
       "1  Liverpool Street   -0.016624                  0.037101\n",
       "2         Stratford   -0.133112                  0.126392"
      ]
     },
     "execution_count": 25,
     "metadata": {},
     "output_type": "execute_result"
    }
   ],
   "source": [
    "# Create a DataFrame to display the results\n",
    "impact_df = pd.DataFrame(impact_list, columns=['Node', 'SPL_Impact', 'Global_Efficiency_Impact'])\n",
    "impact_df.sort_values('SPL_Impact', ascending=False, inplace=True)\n",
    "impact_df.reset_index(drop=True, inplace=True)\n",
    "impact_df"
   ]
  },
  {
   "cell_type": "markdown",
   "id": "cb39381b-22ae-46c3-85aa-7e607c05451b",
   "metadata": {},
   "source": [
    "According to the Shortest Path Length (SPL) Impact, the greatest impact on passengers would be caused by the removal of Stratford station, with an impact of -0.133112. This means that the removal of Stratford station would result in a significant increase in the total weighted shortest path length. This suggests that the total travel time for passengers would increase significantly if Stratford station were to close.\n",
    "\n",
    "On the other hand, the global efficiency impact measure indicates that the removal of Stratford station would also result in the largest increase in global efficiency, with an impact of 0.126392. This suggests that the removal of Stratford station may improve the overall connectivity and efficiency of the network, despite the increase in the total weighted shortest path length.\n",
    "\n",
    "In summary, the closure of Stratford station is likely to have the greatest impact on passengers under both measures, but the impact of these measures is not consistent. While the closure would lead to an overall increase in travel time, it may also lead to a more efficient and connected network. Policy makers should carefully consider the trade-offs and potential consequences of station closures before taking any action."
   ]
  },
  {
   "cell_type": "code",
   "execution_count": null,
   "id": "661c982f-3fac-4ae9-bfa5-ace3bb501bb8",
   "metadata": {},
   "outputs": [],
   "source": []
  }
 ],
 "metadata": {
  "kernelspec": {
   "display_name": "Python 3 (ipykernel)",
   "language": "python",
   "name": "python3"
  },
  "language_info": {
   "codemirror_mode": {
    "name": "ipython",
    "version": 3
   },
   "file_extension": ".py",
   "mimetype": "text/x-python",
   "name": "python",
   "nbconvert_exporter": "python",
   "pygments_lexer": "ipython3",
   "version": "3.10.5"
  }
 },
 "nbformat": 4,
 "nbformat_minor": 5
}
