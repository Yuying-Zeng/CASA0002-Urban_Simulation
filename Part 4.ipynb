{
 "cells": [
  {
   "cell_type": "markdown",
   "id": "a7d3eeeb-cc3f-424a-bcb3-9ffe6ed1599e",
   "metadata": {},
   "source": [
    "### IV. Scenarios"
   ]
  },
  {
   "cell_type": "markdown",
   "id": "a09eab8f-3a73-49fc-93a3-00bc8a3270ce",
   "metadata": {},
   "source": [
    "#### IV.1. Scenario A"
   ]
  },
  {
   "cell_type": "code",
   "execution_count": 1,
   "id": "0141c172-0832-48ed-b39c-e53f16e1da65",
   "metadata": {},
   "outputs": [],
   "source": [
    "import numpy as np\n",
    "import pandas as pd"
   ]
  },
  {
   "cell_type": "code",
   "execution_count": 2,
   "id": "71c64370-26d4-45cb-bd47-873f60f83083",
   "metadata": {},
   "outputs": [],
   "source": [
    "# Data preprocessing\n",
    "london_flows = pd.read_csv(\"london_flows.csv\")\n",
    "\n",
    "observed_flows = london_flows.pivot_table(index='station_origin', columns='station_destination', values='flows', fill_value=0).values\n",
    "distance = london_flows.pivot_table(index='station_origin', columns='station_destination', values='distance', fill_value=0).values"
   ]
  },
  {
   "cell_type": "code",
   "execution_count": 3,
   "id": "df45b950-83a9-4d82-9bbd-e766b7bcef12",
   "metadata": {},
   "outputs": [],
   "source": [
    "station_names = np.array(london_flows['station_origin'].unique())\n",
    "population = np.array([london_flows.loc[london_flows['station_origin'] == station, 'population'].iloc[0] for station in station_names], dtype=np.float64)\n",
    "jobs = np.array([london_flows.loc[london_flows['station_destination'] == station, 'jobs'].iloc[0] for station in station_names], dtype=np.float64)"
   ]
  },
  {
   "cell_type": "code",
   "execution_count": 4,
   "id": "f63d576a-9ecf-48f1-abbf-801f51c6b6f7",
   "metadata": {},
   "outputs": [],
   "source": [
    "# Replace zero values with a small positive value\n",
    "distance_no_zeros = np.where(distance == 0, 0.001, distance)"
   ]
  },
  {
   "cell_type": "code",
   "execution_count": 5,
   "id": "3e94a292-8f6a-4c03-88bd-1497d161ba58",
   "metadata": {},
   "outputs": [],
   "source": [
    "# Model calibration\n",
    "beta = 2.0\n",
    "epsilon = 1e-9\n",
    "num_iterations = 100"
   ]
  },
  {
   "cell_type": "code",
   "execution_count": 6,
   "id": "548b0779-895a-47f4-bb2a-ac6b3fe3d965",
   "metadata": {},
   "outputs": [],
   "source": [
    "A = np.ones(population.shape)\n",
    "B = np.ones(jobs.shape)"
   ]
  },
  {
   "cell_type": "code",
   "execution_count": 7,
   "id": "8f01d395-bef7-4969-9ce3-1af9a2e26756",
   "metadata": {},
   "outputs": [],
   "source": [
    "for _ in range(num_iterations):\n",
    "    A = 1 / (np.maximum(B * distance_no_zeros.T ** (-beta), epsilon)).sum(axis=1)\n",
    "    B = 1 / (np.maximum(A * distance_no_zeros ** (-beta), epsilon)).sum(axis=0)"
   ]
  },
  {
   "cell_type": "code",
   "execution_count": 8,
   "id": "625b27bb-58a2-4a87-87d2-8aa60700a6ec",
   "metadata": {},
   "outputs": [],
   "source": [
    "flows = np.zeros_like(observed_flows)\n",
    "\n",
    "for i in range(A.shape[0]):\n",
    "    for j in range(B.shape[0]):\n",
    "        flows[i, j] = A[i] * B[j] * distance_no_zeros[i, j] ** (-beta)\n"
   ]
  },
  {
   "cell_type": "code",
   "execution_count": 9,
   "id": "4e79773f-8614-4b4a-9c16-fab6142e9352",
   "metadata": {},
   "outputs": [],
   "source": [
    "# Scenario A\n",
    "canary_wharf_index = np.where(station_names == \"Canary Wharf\")[0][0]\n",
    "jobs_scenario_A = jobs.copy()\n",
    "jobs_scenario_A[canary_wharf_index] *= 0.5"
   ]
  },
  {
   "cell_type": "code",
   "execution_count": 10,
   "id": "59eb5ff3-2843-4559-af88-af15f71356d5",
   "metadata": {},
   "outputs": [],
   "source": [
    "reduced_jobs = jobs[canary_wharf_index] * 0.5\n",
    "jobs_proportions = jobs_scenario_A / jobs_scenario_A.sum()\n",
    "jobs_scenario_A += reduced_jobs * jobs_proportions"
   ]
  },
  {
   "cell_type": "markdown",
   "id": "ff19f549-2451-462d-a144-23de24a3b377",
   "metadata": {},
   "source": [
    "首先，它创建原始作业数组的副本并将金丝雀码头的作业减少一半。然后，计算本次缩减后各站点的工作比例。reduced_jobs 变量存储金丝雀码头减少的工作数量。最后，代码根据更新的 jobs_scenario_A 数组中的比例将减少的工作重新分配给其他站点。\n",
    "\n",
    "这种方法确保了通勤者的总数保持不变，因为从金丝雀码头移除的工作被重新分配到其他车站。"
   ]
  },
  {
   "cell_type": "code",
   "execution_count": 11,
   "id": "03b1913b-f1f0-4b63-a052-a362e57bb2f6",
   "metadata": {},
   "outputs": [],
   "source": [
    "A_scenario_A = np.ones(population.shape)\n",
    "B_scenario_A = np.ones(jobs_scenario_A.shape)"
   ]
  },
  {
   "cell_type": "code",
   "execution_count": 13,
   "id": "eaa21a0d-c09d-43a4-8ba7-a5610a2556c3",
   "metadata": {},
   "outputs": [],
   "source": [
    "for _ in range(num_iterations):\n",
    "    A_scenario_A = 1 / (np.maximum(B_scenario_A * distance_no_zeros.T ** (-beta), epsilon)).sum(axis=1)\n",
    "    B_scenario_A = 1 / (np.maximum(A_scenario_A * distance_no_zeros ** (-beta), epsilon)).sum(axis=0)\n",
    "\n",
    "flows_scenario_A = np.zeros_like(observed_flows)"
   ]
  },
  {
   "cell_type": "code",
   "execution_count": 14,
   "id": "d35a6e49-0ebe-4c5f-aa60-58d7c4d40e34",
   "metadata": {},
   "outputs": [],
   "source": [
    "for i in range(A_scenario_A.shape[0]):\n",
    "    for j in range(B_scenario_A.shape[0]):\n",
    "        flows_scenario_A[i, j] = A_scenario_A[i] * B_scenario_A[j] * distance_no_zeros[i, j] ** (-beta)\n"
   ]
  },
  {
   "cell_type": "code",
   "execution_count": 15,
   "id": "dbc23927-1ae9-405e-9cce-595cbbf545fe",
   "metadata": {},
   "outputs": [
    {
     "name": "stdout",
     "output_type": "stream",
     "text": [
      "Original flows:\n",
      " [[2.72479555e-03 2.72479548e-03 2.72479518e-03 ... 2.72479554e-03\n",
      "  2.72479531e-03 3.19471562e-17]\n",
      " [2.95857978e-03 2.95857970e-03 2.95857938e-03 ... 4.14735047e-18\n",
      "  2.95857952e-03 2.95857976e-03]\n",
      " [5.98802338e-03 5.98802321e-03 5.98802256e-03 ... 5.98802336e-03\n",
      "  8.78308967e-18 5.98802332e-03]\n",
      " ...\n",
      " [2.75482085e-03 3.86172018e-18 2.75482047e-03 ... 2.75482084e-03\n",
      "  2.75482060e-03 2.75482082e-03]\n",
      " [4.27350396e-03 4.27350383e-03 6.26827325e-18 ... 4.27350394e-03\n",
      "  4.27350357e-03 4.27350391e-03]\n",
      " [3.26590709e-17 2.78551516e-03 2.78551486e-03 ... 2.78551523e-03\n",
      "  2.78551498e-03 2.78551521e-03]]\n",
      "\n",
      "Flows for Scenario A:\n",
      " [[2.72479555e-03 2.72479548e-03 2.72479518e-03 ... 2.72479554e-03\n",
      "  2.72479531e-03 3.19471562e-17]\n",
      " [2.95857978e-03 2.95857970e-03 2.95857938e-03 ... 4.14735047e-18\n",
      "  2.95857952e-03 2.95857976e-03]\n",
      " [5.98802338e-03 5.98802321e-03 5.98802256e-03 ... 5.98802336e-03\n",
      "  8.78308967e-18 5.98802332e-03]\n",
      " ...\n",
      " [2.75482085e-03 3.86172018e-18 2.75482047e-03 ... 2.75482084e-03\n",
      "  2.75482060e-03 2.75482082e-03]\n",
      " [4.27350396e-03 4.27350383e-03 6.26827325e-18 ... 4.27350394e-03\n",
      "  4.27350357e-03 4.27350391e-03]\n",
      " [3.26590709e-17 2.78551516e-03 2.78551486e-03 ... 2.78551523e-03\n",
      "  2.78551498e-03 2.78551521e-03]]\n"
     ]
    }
   ],
   "source": [
    "# Compare the new flows for Scenario A to the original flows\n",
    "print(\"Original flows:\\n\", flows)\n",
    "print(\"\\nFlows for Scenario A:\\n\", flows_scenario_A)"
   ]
  },
  {
   "cell_type": "code",
   "execution_count": null,
   "id": "94dd435f-1c3d-4ca9-a4b1-c6512523fb04",
   "metadata": {},
   "outputs": [],
   "source": [
    "# Calculate the difference between the two matrices\n",
    "flow_diff = flows_scenario_A - flows"
   ]
  },
  {
   "cell_type": "code",
   "execution_count": 17,
   "id": "ef304c95-a9f4-42fc-93d3-826b5ba0c46b",
   "metadata": {},
   "outputs": [],
   "source": [
    "# Calculate the average, median, and standard deviation of the differences\n",
    "mean_diff = np.mean(flow_diff)\n",
    "median_diff = np.median(flow_diff)\n",
    "std_diff = np.std(flow_diff)"
   ]
  },
  {
   "cell_type": "code",
   "execution_count": 18,
   "id": "6bff18b8-bcd5-460d-b18a-3696361562f6",
   "metadata": {},
   "outputs": [],
   "source": [
    "# Identify the most affected origin-destination pairs\n",
    "max_diff_index = np.unravel_index(np.argmax(np.abs(flow_diff)), flow_diff.shape)\n",
    "max_diff_value = flow_diff[max_diff_index]"
   ]
  },
  {
   "cell_type": "code",
   "execution_count": 19,
   "id": "0a02cb1b-f951-4f6b-8d97-debe4b8d6595",
   "metadata": {},
   "outputs": [
    {
     "name": "stdout",
     "output_type": "stream",
     "text": [
      "Mean difference: 3.628647739070816e-15\n",
      "Median difference: 3.0357660829594124e-15\n",
      "Standard deviation of differences: 3.941927961549982e-15\n",
      "Most affected origin-destination pair: (327, 327)\n",
      "Largest difference in flows: 1.3792786357491593e-13\n"
     ]
    }
   ],
   "source": [
    "# Print the results\n",
    "print(f\"Mean difference: {mean_diff}\")\n",
    "print(f\"Median difference: {median_diff}\")\n",
    "print(f\"Standard deviation of differences: {std_diff}\")\n",
    "print(f\"Most affected origin-destination pair: {max_diff_index}\")\n",
    "print(f\"Largest difference in flows: {max_diff_value}\")"
   ]
  },
  {
   "cell_type": "markdown",
   "id": "f96026cd-c514-4cb2-a094-17793f587eae",
   "metadata": {},
   "source": [
    "In Scenario A, we assume a 50% reduction in jobs at Canary Wharf post-Brexit and reallocate these jobs proportionally to the remaining workplaces. We then use the calibration parameter β to calculate the new flows and ensure that the number of commuters is retained.\n",
    "\n",
    "We observed a mean difference in flows between the original scenario and scenario A of 3.63e-15, while the median difference was 3.04e-15 and the standard deviation of the difference was 3.94e-15. These values indicate that, on average, the change in flows between the two scenarios was very small.\n",
    "\n",
    "However, it is important to examine the most heavily affected origin-destination pairs to understand the impact on specific regions. In our analysis, the most affected origin-destination pair is (327, 327), with the largest difference in flows of 1.38e-13. This result suggests that, while the overall impact on flows is relatively small, some specific origin-destination pairs experience greater changes in commuter flows due to job losses at Canary Wharf.\n",
    "\n",
    "In summary, the 50% reduction in jobs at Canary Wharf post-Brexit resulted in a small change in commuter flows on average, but some specific origin-destination pairs were more significantly affected."
   ]
  },
  {
   "cell_type": "markdown",
   "id": "a48efcd8-e2de-4f63-899b-a325fd7ff386",
   "metadata": {},
   "source": [
    "#### IV.1. Scenario B"
   ]
  },
  {
   "cell_type": "code",
   "execution_count": 25,
   "id": "a1e9a8f1-8a63-41b6-9e08-5879bd81c5bd",
   "metadata": {},
   "outputs": [],
   "source": [
    "# Calculate the difference in flows\n",
    "def calculate_differences(original, new):\n",
    "    differences = new - original\n",
    "    mean_diff = np.mean(np.abs(differences))\n",
    "    median_diff = np.median(np.abs(differences))\n",
    "    std_diff = np.std(np.abs(differences))\n",
    "    max_diff_index = np.unravel_index(np.argmax(np.abs(differences)), differences.shape)\n",
    "    max_diff = differences[max_diff_index]\n",
    "    return mean_diff, median_diff, std_diff, max_diff_index, max_diff"
   ]
  },
  {
   "cell_type": "code",
   "execution_count": 26,
   "id": "7b5dd796-feb3-467a-ade0-819c7092e9bc",
   "metadata": {},
   "outputs": [],
   "source": [
    "# Define two new values for beta\n",
    "beta1 = 1.5 * beta\n",
    "beta2 = 2 * beta"
   ]
  },
  {
   "cell_type": "code",
   "execution_count": 27,
   "id": "ce3404cd-96ed-4a9f-b06d-379a7adab1df",
   "metadata": {},
   "outputs": [],
   "source": [
    "# Compute flows for both beta1 and beta2\n",
    "flows_beta1 = np.zeros_like(distance)\n",
    "flows_beta2 = np.zeros_like(distance)"
   ]
  },
  {
   "cell_type": "code",
   "execution_count": 28,
   "id": "ac3263de-0f3d-47c6-8d26-6f72a5617c86",
   "metadata": {},
   "outputs": [],
   "source": [
    "# Recompute flows for Scenario B using the new beta values\n",
    "def compute_flows_scenario_B(distance, A, B, beta):\n",
    "    return A.reshape(-1, 1) * B * distance ** (-beta)\n",
    "\n",
    "flows_scenario_B_beta1 = compute_flows_scenario_B(distance_no_zeros, A, B, beta1)\n",
    "flows_scenario_B_beta2 = compute_flows_scenario_B(distance_no_zeros, A, B, beta2)"
   ]
  },
  {
   "cell_type": "code",
   "execution_count": 29,
   "id": "4d986d16-3c7a-4c66-919e-080198d82a91",
   "metadata": {},
   "outputs": [],
   "source": [
    "# Calculate differences for beta1\n",
    "mean_diff_beta1, median_diff_beta1, std_diff_beta1, max_diff_index_beta1, max_diff_beta1 = calculate_differences(flows, flows_scenario_B_beta1)"
   ]
  },
  {
   "cell_type": "code",
   "execution_count": 30,
   "id": "cc84ec08-adf1-45ed-9bc1-8de38e16f79c",
   "metadata": {},
   "outputs": [],
   "source": [
    "# Calculate differences for beta2\n",
    "mean_diff_beta2, median_diff_beta2, std_diff_beta2, max_diff_index_beta2, max_diff_beta2 = calculate_differences(flows, flows_scenario_B_beta2)"
   ]
  },
  {
   "cell_type": "code",
   "execution_count": 31,
   "id": "58cde8dd-5d88-43d4-97ae-ab17a8cc6393",
   "metadata": {},
   "outputs": [
    {
     "name": "stdout",
     "output_type": "stream",
     "text": [
      "Original flows:\n",
      " [[2.72479555e-03 2.72479548e-03 2.72479518e-03 ... 2.72479554e-03\n",
      "  2.72479531e-03 3.19471562e-17]\n",
      " [2.95857978e-03 2.95857970e-03 2.95857938e-03 ... 4.14735047e-18\n",
      "  2.95857952e-03 2.95857976e-03]\n",
      " [5.98802338e-03 5.98802321e-03 5.98802256e-03 ... 5.98802336e-03\n",
      "  8.78308967e-18 5.98802332e-03]\n",
      " ...\n",
      " [2.75482085e-03 3.86172018e-18 2.75482047e-03 ... 2.75482084e-03\n",
      "  2.75482060e-03 2.75482082e-03]\n",
      " [4.27350396e-03 4.27350383e-03 6.26827325e-18 ... 4.27350394e-03\n",
      "  4.27350357e-03 4.27350391e-03]\n",
      " [3.26590709e-17 2.78551516e-03 2.78551486e-03 ... 2.78551523e-03\n",
      "  2.78551498e-03 2.78551521e-03]]\n",
      "\n",
      "Flows for Scenario B (beta1):\n",
      " [[2.72479555e+00 2.72479548e+00 2.72479518e+00 ... 2.72479554e+00\n",
      "  2.72479531e+00 3.45924521e-21]\n",
      " [2.95857978e+00 2.95857970e+00 2.95857938e+00 ... 1.55279622e-22\n",
      "  2.95857952e+00 2.95857976e+00]\n",
      " [5.98802338e+00 5.98802321e+00 5.98802256e+00 ... 5.98802336e+00\n",
      "  3.36379291e-22 5.98802332e+00]\n",
      " ...\n",
      " [2.75482085e+00 1.44585429e-22 2.75482047e+00 ... 2.75482084e+00\n",
      "  2.75482060e+00 2.75482082e+00]\n",
      " [4.27350396e+00 4.27350383e+00 2.40065557e-22 ... 4.27350394e+00\n",
      "  4.27350357e+00 4.27350391e+00]\n",
      " [3.53633150e-21 2.78551516e+00 2.78551486e+00 ... 2.78551523e+00\n",
      "  2.78551498e+00 2.78551521e+00]]\n",
      "\n",
      "Flows for Scenario B (beta2):\n",
      " [[2.72479555e+03 2.72479548e+03 2.72479518e+03 ... 2.72479554e+03\n",
      "  2.72479531e+03 3.74567845e-25]\n",
      " [2.95857978e+03 2.95857970e+03 2.95857938e+03 ... 5.81377460e-27\n",
      "  2.95857952e+03 2.95857976e+03]\n",
      " [5.98802338e+03 5.98802321e+03 5.98802256e+03 ... 5.98802336e+03\n",
      "  1.28828273e-26 5.98802332e+03]\n",
      " ...\n",
      " [2.75482085e+03 5.41337677e-27 2.75482047e+03 ... 2.75482084e+03\n",
      "  2.75482060e+03 2.75482082e+03]\n",
      " [4.27350396e+03 4.27350383e+03 9.19415432e-27 ... 4.27350394e+03\n",
      "  4.27350357e+03 4.27350391e+03]\n",
      " [3.82914765e-25 2.78551516e+03 2.78551486e+03 ... 2.78551523e+03\n",
      "  2.78551498e+03 2.78551521e+03]]\n"
     ]
    }
   ],
   "source": [
    "# Print results\n",
    "print(\"Original flows:\\n\", flows)\n",
    "print(\"\\nFlows for Scenario B (beta1):\\n\", flows_scenario_B_beta1)\n",
    "print(\"\\nFlows for Scenario B (beta2):\\n\", flows_scenario_B_beta2)"
   ]
  },
  {
   "cell_type": "code",
   "execution_count": 32,
   "id": "bc5ca1f4-28f1-4964-a5ac-20a94b988ffd",
   "metadata": {},
   "outputs": [
    {
     "name": "stdout",
     "output_type": "stream",
     "text": [
      "\n",
      "Scenario B (beta1) Results:\n",
      "Mean difference: 2.5050864296965596\n",
      "Median difference: 2.736985924081588\n",
      "Standard deviation of differences: 2.392061645086703\n",
      "Most affected origin-destination pair: (327, 114)\n",
      "Largest difference in flows: 31.218747651762026\n"
     ]
    }
   ],
   "source": [
    "print(\"\\nScenario B (beta1) Results:\")\n",
    "print(f\"Mean difference: {mean_diff_beta1}\")\n",
    "print(f\"Median difference: {median_diff_beta1}\")\n",
    "print(f\"Standard deviation of differences: {std_diff_beta1}\")\n",
    "print(f\"Most affected origin-destination pair: {max_diff_index_beta1}\")\n",
    "print(f\"Largest difference in flows: {max_diff_beta1}\")"
   ]
  },
  {
   "cell_type": "code",
   "execution_count": 33,
   "id": "643c33e5-d322-40c1-9ebb-9063cafca5c6",
   "metadata": {},
   "outputs": [
    {
     "name": "stdout",
     "output_type": "stream",
     "text": [
      "\n",
      "Scenario B (beta2) Results:\n",
      "Mean difference: 2507.591516126256\n",
      "Median difference: 2739.7229100056693\n",
      "Standard deviation of differences: 2394.4537067317897\n",
      "Most affected origin-destination pair: (327, 114)\n",
      "Largest difference in flows: 31249.966399413785\n"
     ]
    }
   ],
   "source": [
    "print(\"\\nScenario B (beta2) Results:\")\n",
    "print(f\"Mean difference: {mean_diff_beta2}\")\n",
    "print(f\"Median difference: {median_diff_beta2}\")\n",
    "print(f\"Standard deviation of differences: {std_diff_beta2}\")\n",
    "print(f\"Most affected origin-destination pair: {max_diff_index_beta2}\")\n",
    "print(f\"Largest difference in flows: {max_diff_beta2}\")"
   ]
  },
  {
   "cell_type": "markdown",
   "id": "3f2aac04-41c4-42b7-a297-766f7aa40921",
   "metadata": {},
   "source": [
    "In Scenario B we consider two different values of the cost function parameter (beta) to reflect a significant increase in transport costs. We use beta1 = 1.5 * beta and beta2 = 2 * beta.\n",
    "\n",
    "For scenario B with beta1, the mean difference between the original and new flows is 2.505, while the median difference is 2.737. The standard deviation of the difference is 2.392, the most affected origin-destination pair is (327, 114), and the maximum difference in flows is 31.219.\n",
    "\n",
    "For Scenario B with beta2, the mean difference between the original and new flows is 2507.592 and the median difference is 2739.723. The standard deviation of the difference is 2394.454, the most affected origin-destination pair is (327, 114), and the maximum difference in flows is 31249.966.\n",
    "\n",
    "Comparing these two scenarios, we can observe that Scenario B with beta2 has a more significant impact on the reallocation of flows than Scenario B with beta1, as the difference between the original and new flows is much larger in the case of beta2. This can be attributed to the higher value of the cost function parameter, which leads to a significant increase in transport costs and thus to a greater change in commuting patterns.\n",
    "\n",
    "In conclusion, the results of our analysis show that Scenario B with beta2 has a greater impact on traffic reallocation than Scenario B with beta1. These findings can be used to understand the potential impact of increased transport costs on urban commuting patterns."
   ]
  },
  {
   "cell_type": "markdown",
   "id": "3d02f7b5-ea54-4f7f-990e-9d6649fa356f",
   "metadata": {},
   "source": [
    "#### IV.1. Scenario C"
   ]
  },
  {
   "cell_type": "markdown",
   "id": "8e4b20e9-7860-4303-be79-8ca3f04843b6",
   "metadata": {},
   "source": [
    "The impact of Scenario A on the redistribution of flows is very small as the mean, median and maximum differences are very small (approximately 1e-15). This is due to a 50% reduction in the number of jobs at Canary Wharf, but the total number of commuters is retained through a proportional redistribution of the affected jobs.\n",
    "\n",
    "Scenario B (beta1) has a more significant impact on the redistribution of flows than Scenario A. The mean and median differences are significantly higher than in Scenario A, with a maximum traffic difference of 31.219, suggesting a more significant change in commuting patterns to increase transport costs.\n",
    "\n",
    "Scenario B (beta2) has the greatest impact on the redistribution of flows in all three scenarios. The mean and median differences are much higher than for Scenario A and Scenario B (beta1), with a maximum difference in flows of 31,249.966. This suggests that significant increases in transport costs (expressed as higher beta values) lead to more significant changes in commuting patterns.\n",
    "\n",
    "In summary, Scenario B (beta2) has the greatest impact on the redistribution of flows between the three scenarios. The analysis shows that increased transport costs have a more significant impact on commuting patterns than a reduction in the number of jobs at Canary Wharf. This helps to inform policy decisions and infrastructure planning in the context of changing transport costs and employment patterns."
   ]
  },
  {
   "cell_type": "code",
   "execution_count": null,
   "id": "b0192e99-2188-4dd9-be9e-d791c45e78c1",
   "metadata": {},
   "outputs": [],
   "source": []
  }
 ],
 "metadata": {
  "kernelspec": {
   "display_name": "Python 3 (ipykernel)",
   "language": "python",
   "name": "python3"
  },
  "language_info": {
   "codemirror_mode": {
    "name": "ipython",
    "version": 3
   },
   "file_extension": ".py",
   "mimetype": "text/x-python",
   "name": "python",
   "nbconvert_exporter": "python",
   "pygments_lexer": "ipython3",
   "version": "3.10.5"
  }
 },
 "nbformat": 4,
 "nbformat_minor": 5
}
