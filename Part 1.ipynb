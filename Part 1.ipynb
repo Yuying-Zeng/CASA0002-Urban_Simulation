{
 "cells": [
  {
   "cell_type": "code",
   "execution_count": 1,
   "id": "7c10752a-c7ed-4f77-8537-4c96f73a603d",
   "metadata": {},
   "outputs": [],
   "source": [
    "import networkx as nx\n",
    "import matplotlib.pyplot as plt\n",
    "\n",
    "import pandas as pd\n",
    "from operator import itemgetter"
   ]
  },
  {
   "cell_type": "code",
   "execution_count": 2,
   "id": "2bf11789-ee48-4982-a94f-823b3e12e371",
   "metadata": {},
   "outputs": [],
   "source": [
    "# Load the data\n",
    "data = pd.read_csv(\"london_flows.csv\")"
   ]
  },
  {
   "cell_type": "code",
   "execution_count": 3,
   "id": "55df91db-3e60-4087-bfca-94b6430e6764",
   "metadata": {},
   "outputs": [
    {
     "data": {
      "text/html": [
       "<div>\n",
       "<style scoped>\n",
       "    .dataframe tbody tr th:only-of-type {\n",
       "        vertical-align: middle;\n",
       "    }\n",
       "\n",
       "    .dataframe tbody tr th {\n",
       "        vertical-align: top;\n",
       "    }\n",
       "\n",
       "    .dataframe thead th {\n",
       "        text-align: right;\n",
       "    }\n",
       "</style>\n",
       "<table border=\"1\" class=\"dataframe\">\n",
       "  <thead>\n",
       "    <tr style=\"text-align: right;\">\n",
       "      <th></th>\n",
       "      <th>station_origin</th>\n",
       "      <th>station_destination</th>\n",
       "      <th>flows</th>\n",
       "      <th>population</th>\n",
       "      <th>jobs</th>\n",
       "      <th>distance</th>\n",
       "    </tr>\n",
       "  </thead>\n",
       "  <tbody>\n",
       "    <tr>\n",
       "      <th>0</th>\n",
       "      <td>Abbey Road</td>\n",
       "      <td>Bank and Monument</td>\n",
       "      <td>0</td>\n",
       "      <td>599</td>\n",
       "      <td>78549</td>\n",
       "      <td>8131.525097</td>\n",
       "    </tr>\n",
       "    <tr>\n",
       "      <th>1</th>\n",
       "      <td>Abbey Road</td>\n",
       "      <td>Beckton</td>\n",
       "      <td>1</td>\n",
       "      <td>599</td>\n",
       "      <td>442</td>\n",
       "      <td>8510.121774</td>\n",
       "    </tr>\n",
       "    <tr>\n",
       "      <th>2</th>\n",
       "      <td>Abbey Road</td>\n",
       "      <td>Blackwall</td>\n",
       "      <td>3</td>\n",
       "      <td>599</td>\n",
       "      <td>665</td>\n",
       "      <td>3775.448872</td>\n",
       "    </tr>\n",
       "    <tr>\n",
       "      <th>3</th>\n",
       "      <td>Abbey Road</td>\n",
       "      <td>Canary Wharf</td>\n",
       "      <td>1</td>\n",
       "      <td>599</td>\n",
       "      <td>58772</td>\n",
       "      <td>5086.514220</td>\n",
       "    </tr>\n",
       "    <tr>\n",
       "      <th>4</th>\n",
       "      <td>Abbey Road</td>\n",
       "      <td>Canning Town</td>\n",
       "      <td>37</td>\n",
       "      <td>599</td>\n",
       "      <td>15428</td>\n",
       "      <td>2228.923167</td>\n",
       "    </tr>\n",
       "  </tbody>\n",
       "</table>\n",
       "</div>"
      ],
      "text/plain": [
       "  station_origin station_destination  flows  population   jobs     distance\n",
       "0     Abbey Road   Bank and Monument      0         599  78549  8131.525097\n",
       "1     Abbey Road             Beckton      1         599    442  8510.121774\n",
       "2     Abbey Road           Blackwall      3         599    665  3775.448872\n",
       "3     Abbey Road        Canary Wharf      1         599  58772  5086.514220\n",
       "4     Abbey Road        Canning Town     37         599  15428  2228.923167"
      ]
     },
     "execution_count": 3,
     "metadata": {},
     "output_type": "execute_result"
    }
   ],
   "source": [
    "# Print data (first five rows)\n",
    "data.head()"
   ]
  },
  {
   "cell_type": "markdown",
   "id": "b11a891f-f204-4527-b997-67c45311b6ad",
   "metadata": {},
   "source": [
    "## Part 1: London’s underground resilience"
   ]
  },
  {
   "cell_type": "markdown",
   "id": "271cc30e-5fef-4fac-b01e-d885e0481569",
   "metadata": {},
   "source": [
    "### I. Topological network"
   ]
  },
  {
   "cell_type": "markdown",
   "id": "4768d726-65eb-4b32-ad81-9b65fc8f277e",
   "metadata": {},
   "source": [
    "#### I.1. Centrality measures"
   ]
  },
  {
   "cell_type": "code",
   "execution_count": 4,
   "id": "7e26d4a1-c432-4c49-98b0-f483b419bd97",
   "metadata": {},
   "outputs": [],
   "source": [
    "# Create graph object\n",
    "G = nx.from_pandas_edgelist(data, 'station_origin', 'station_destination')"
   ]
  },
  {
   "cell_type": "markdown",
   "id": "b73c8986-220a-4494-85c5-3b8b983016c3",
   "metadata": {},
   "source": [
    "#### Degree centrality"
   ]
  },
  {
   "cell_type": "code",
   "execution_count": 5,
   "id": "c86389f3-e69b-49fa-8e7f-29d5470bc0d8",
   "metadata": {},
   "outputs": [],
   "source": [
    "#  We can calculate the degree centrality using networkx function:我们可以使用 networkx 任数计算集中度：\n",
    "deg_london =nx.degree_centrality(G)\n",
    "nx.set_node_attributes(G,dict(deg_london),'degree')"
   ]
  },
  {
   "cell_type": "code",
   "execution_count": 6,
   "id": "387a5637-dbb9-4fb4-917f-df3c1eb7c482",
   "metadata": {},
   "outputs": [
    {
     "data": {
      "text/html": [
       "<div>\n",
       "<style scoped>\n",
       "    .dataframe tbody tr th:only-of-type {\n",
       "        vertical-align: middle;\n",
       "    }\n",
       "\n",
       "    .dataframe tbody tr th {\n",
       "        vertical-align: top;\n",
       "    }\n",
       "\n",
       "    .dataframe thead th {\n",
       "        text-align: right;\n",
       "    }\n",
       "</style>\n",
       "<table border=\"1\" class=\"dataframe\">\n",
       "  <thead>\n",
       "    <tr style=\"text-align: right;\">\n",
       "      <th></th>\n",
       "      <th>degree</th>\n",
       "    </tr>\n",
       "  </thead>\n",
       "  <tbody>\n",
       "    <tr>\n",
       "      <th>Stratford</th>\n",
       "      <td>0.922111</td>\n",
       "    </tr>\n",
       "    <tr>\n",
       "      <th>Highbury &amp; Islington</th>\n",
       "      <td>0.806533</td>\n",
       "    </tr>\n",
       "    <tr>\n",
       "      <th>Whitechapel</th>\n",
       "      <td>0.781407</td>\n",
       "    </tr>\n",
       "    <tr>\n",
       "      <th>West Brompton</th>\n",
       "      <td>0.776382</td>\n",
       "    </tr>\n",
       "    <tr>\n",
       "      <th>Canada Water</th>\n",
       "      <td>0.771357</td>\n",
       "    </tr>\n",
       "    <tr>\n",
       "      <th>Canary Wharf</th>\n",
       "      <td>0.771357</td>\n",
       "    </tr>\n",
       "    <tr>\n",
       "      <th>Liverpool Street</th>\n",
       "      <td>0.768844</td>\n",
       "    </tr>\n",
       "    <tr>\n",
       "      <th>Bank and Monument</th>\n",
       "      <td>0.766332</td>\n",
       "    </tr>\n",
       "    <tr>\n",
       "      <th>Richmond</th>\n",
       "      <td>0.766332</td>\n",
       "    </tr>\n",
       "    <tr>\n",
       "      <th>Canning Town</th>\n",
       "      <td>0.763819</td>\n",
       "    </tr>\n",
       "  </tbody>\n",
       "</table>\n",
       "</div>"
      ],
      "text/plain": [
       "                        degree\n",
       "Stratford             0.922111\n",
       "Highbury & Islington  0.806533\n",
       "Whitechapel           0.781407\n",
       "West Brompton         0.776382\n",
       "Canada Water          0.771357\n",
       "Canary Wharf          0.771357\n",
       "Liverpool Street      0.768844\n",
       "Bank and Monument     0.766332\n",
       "Richmond              0.766332\n",
       "Canning Town          0.763819"
      ]
     },
     "execution_count": 6,
     "metadata": {},
     "output_type": "execute_result"
    }
   ],
   "source": [
    "# To dataframe using the nodes as the index以节点为索引的数据框\n",
    "df = pd.DataFrame(index=G.nodes())\n",
    "#df['station_name'] = pd.Series(nx.get_node_attributes(G, 'station_name'))\n",
    "df['degree'] = pd.Series(nx.get_node_attributes(G, 'degree'))\n",
    "\n",
    "df_sorted = df.sort_values([\"degree\"], ascending=False)\n",
    "df_sorted[0:10]"
   ]
  },
  {
   "cell_type": "markdown",
   "id": "d5f56880-7c3a-43b4-acf7-0a4795e3cecc",
   "metadata": {},
   "source": [
    "#### Betweenness centrality"
   ]
  },
  {
   "cell_type": "code",
   "execution_count": 7,
   "id": "d0333d2c-1dba-48e3-b758-c834ea354296",
   "metadata": {},
   "outputs": [],
   "source": [
    "#  We can calculate the betweenness centrality using networkx function\n",
    "bet_london =nx.betweenness_centrality(G)\n",
    "nx.set_node_attributes(G,dict(bet_london),'betweenness')"
   ]
  },
  {
   "cell_type": "code",
   "execution_count": 8,
   "id": "9814fdec-b4b8-44f8-bbf0-2babe036cf63",
   "metadata": {},
   "outputs": [
    {
     "data": {
      "text/html": [
       "<div>\n",
       "<style scoped>\n",
       "    .dataframe tbody tr th:only-of-type {\n",
       "        vertical-align: middle;\n",
       "    }\n",
       "\n",
       "    .dataframe tbody tr th {\n",
       "        vertical-align: top;\n",
       "    }\n",
       "\n",
       "    .dataframe thead th {\n",
       "        text-align: right;\n",
       "    }\n",
       "</style>\n",
       "<table border=\"1\" class=\"dataframe\">\n",
       "  <thead>\n",
       "    <tr style=\"text-align: right;\">\n",
       "      <th></th>\n",
       "      <th>betweenness</th>\n",
       "    </tr>\n",
       "  </thead>\n",
       "  <tbody>\n",
       "    <tr>\n",
       "      <th>Stratford</th>\n",
       "      <td>0.098553</td>\n",
       "    </tr>\n",
       "    <tr>\n",
       "      <th>Liverpool Street</th>\n",
       "      <td>0.034307</td>\n",
       "    </tr>\n",
       "    <tr>\n",
       "      <th>Canary Wharf</th>\n",
       "      <td>0.027956</td>\n",
       "    </tr>\n",
       "    <tr>\n",
       "      <th>Bank and Monument</th>\n",
       "      <td>0.027956</td>\n",
       "    </tr>\n",
       "    <tr>\n",
       "      <th>Canning Town</th>\n",
       "      <td>0.027757</td>\n",
       "    </tr>\n",
       "    <tr>\n",
       "      <th>West Ham</th>\n",
       "      <td>0.024551</td>\n",
       "    </tr>\n",
       "    <tr>\n",
       "      <th>Highbury &amp; Islington</th>\n",
       "      <td>0.023023</td>\n",
       "    </tr>\n",
       "    <tr>\n",
       "      <th>Whitechapel</th>\n",
       "      <td>0.019682</td>\n",
       "    </tr>\n",
       "    <tr>\n",
       "      <th>Canada Water</th>\n",
       "      <td>0.017898</td>\n",
       "    </tr>\n",
       "    <tr>\n",
       "      <th>Shadwell</th>\n",
       "      <td>0.017070</td>\n",
       "    </tr>\n",
       "  </tbody>\n",
       "</table>\n",
       "</div>"
      ],
      "text/plain": [
       "                      betweenness\n",
       "Stratford                0.098553\n",
       "Liverpool Street         0.034307\n",
       "Canary Wharf             0.027956\n",
       "Bank and Monument        0.027956\n",
       "Canning Town             0.027757\n",
       "West Ham                 0.024551\n",
       "Highbury & Islington     0.023023\n",
       "Whitechapel              0.019682\n",
       "Canada Water             0.017898\n",
       "Shadwell                 0.017070"
      ]
     },
     "execution_count": 8,
     "metadata": {},
     "output_type": "execute_result"
    }
   ],
   "source": [
    "# To dataframe using the nodes as the index以节点为索引的数据框\n",
    "df = pd.DataFrame(index=G.nodes())\n",
    "#df['station_name'] = pd.Series(nx.get_node_attributes(G, 'station_name'))\n",
    "df['betweenness'] = pd.Series(nx.get_node_attributes(G, 'betweenness'))\n",
    "\n",
    "df_sorted = df.sort_values([\"betweenness\"], ascending=False)\n",
    "df_sorted[0:10]"
   ]
  },
  {
   "cell_type": "markdown",
   "id": "3dcec741-9ab6-4c4d-9980-aa7b97fdb5a8",
   "metadata": {},
   "source": [
    "#### Closeness centrality"
   ]
  },
  {
   "cell_type": "code",
   "execution_count": 9,
   "id": "b07ed9d3-d58b-4fd4-be68-bc96924efefa",
   "metadata": {},
   "outputs": [],
   "source": [
    "#  We can calculate the betweenness centrality using networkx function\n",
    "clos_london =nx.closeness_centrality(G)\n",
    "nx.set_node_attributes(G,dict(clos_london),'closeness')"
   ]
  },
  {
   "cell_type": "code",
   "execution_count": 10,
   "id": "4fd2b9f8-02ad-4774-9869-86b15919b31b",
   "metadata": {},
   "outputs": [
    {
     "data": {
      "text/html": [
       "<div>\n",
       "<style scoped>\n",
       "    .dataframe tbody tr th:only-of-type {\n",
       "        vertical-align: middle;\n",
       "    }\n",
       "\n",
       "    .dataframe tbody tr th {\n",
       "        vertical-align: top;\n",
       "    }\n",
       "\n",
       "    .dataframe thead th {\n",
       "        text-align: right;\n",
       "    }\n",
       "</style>\n",
       "<table border=\"1\" class=\"dataframe\">\n",
       "  <thead>\n",
       "    <tr style=\"text-align: right;\">\n",
       "      <th></th>\n",
       "      <th>closeness</th>\n",
       "    </tr>\n",
       "  </thead>\n",
       "  <tbody>\n",
       "    <tr>\n",
       "      <th>Stratford</th>\n",
       "      <td>0.927739</td>\n",
       "    </tr>\n",
       "    <tr>\n",
       "      <th>Highbury &amp; Islington</th>\n",
       "      <td>0.836134</td>\n",
       "    </tr>\n",
       "    <tr>\n",
       "      <th>Whitechapel</th>\n",
       "      <td>0.820619</td>\n",
       "    </tr>\n",
       "    <tr>\n",
       "      <th>West Brompton</th>\n",
       "      <td>0.817248</td>\n",
       "    </tr>\n",
       "    <tr>\n",
       "      <th>Canada Water</th>\n",
       "      <td>0.813906</td>\n",
       "    </tr>\n",
       "    <tr>\n",
       "      <th>Richmond</th>\n",
       "      <td>0.810591</td>\n",
       "    </tr>\n",
       "    <tr>\n",
       "      <th>Canary Wharf</th>\n",
       "      <td>0.810591</td>\n",
       "    </tr>\n",
       "    <tr>\n",
       "      <th>Bank and Monument</th>\n",
       "      <td>0.810591</td>\n",
       "    </tr>\n",
       "    <tr>\n",
       "      <th>Liverpool Street</th>\n",
       "      <td>0.808943</td>\n",
       "    </tr>\n",
       "    <tr>\n",
       "      <th>Canning Town</th>\n",
       "      <td>0.808943</td>\n",
       "    </tr>\n",
       "  </tbody>\n",
       "</table>\n",
       "</div>"
      ],
      "text/plain": [
       "                      closeness\n",
       "Stratford              0.927739\n",
       "Highbury & Islington   0.836134\n",
       "Whitechapel            0.820619\n",
       "West Brompton          0.817248\n",
       "Canada Water           0.813906\n",
       "Richmond               0.810591\n",
       "Canary Wharf           0.810591\n",
       "Bank and Monument      0.810591\n",
       "Liverpool Street       0.808943\n",
       "Canning Town           0.808943"
      ]
     },
     "execution_count": 10,
     "metadata": {},
     "output_type": "execute_result"
    }
   ],
   "source": [
    "# To dataframe using the nodes as the index以节点为索引的数据框\n",
    "df = pd.DataFrame(index=G.nodes())\n",
    "#df['station_name'] = pd.Series(nx.get_node_attributes(G, 'station_name'))\n",
    "df['closeness'] = pd.Series(nx.get_node_attributes(G, 'closeness'))\n",
    "\n",
    "df_sorted = df.sort_values([\"closeness\"], ascending=False)\n",
    "df_sorted[0:10]"
   ]
  },
  {
   "cell_type": "markdown",
   "id": "da356100-d865-49ec-a44c-1db07047acb5",
   "metadata": {},
   "source": [
    "#### I.2. Impact measures"
   ]
  },
  {
   "cell_type": "code",
   "execution_count": 11,
   "id": "d5bf01b6-e4e0-4660-a28d-163b77381338",
   "metadata": {},
   "outputs": [],
   "source": [
    "import networkx as nx"
   ]
  },
  {
   "cell_type": "code",
   "execution_count": 12,
   "id": "7d907eb3-b363-4bb2-90f3-6134312f0701",
   "metadata": {},
   "outputs": [],
   "source": [
    "def network_properties(G):\n",
    "    connected = nx.is_connected(G)\n",
    "    avg_shortest_path = nx.average_shortest_path_length(G) if connected else None\n",
    "    efficiency = nx.global_efficiency(G)\n",
    "    return connected, avg_shortest_path, efficiency"
   ]
  },
  {
   "cell_type": "code",
   "execution_count": 13,
   "id": "18b9fdd9-27f3-4ebd-bf4a-7905a617fe65",
   "metadata": {},
   "outputs": [
    {
     "name": "stdout",
     "output_type": "stream",
     "text": [
      "Initial Network Properties:\n",
      "Connected: True\n",
      "Global Efficiency: 0.697696922372896\n"
     ]
    }
   ],
   "source": [
    "# Calculate initial network properties\n",
    "connected, avg_shortest_path, efficiency = network_properties(G)\n",
    "print(\"Initial Network Properties:\")\n",
    "print(f\"Connected: {connected}\")\n",
    "#print(f\"Average Shortest Path Length: {avg_shortest_path}\")\n",
    "print(f\"Global Efficiency: {efficiency}\")"
   ]
  },
  {
   "cell_type": "code",
   "execution_count": 14,
   "id": "7cb62496-59ea-4076-91bf-fb73226971cf",
   "metadata": {},
   "outputs": [],
   "source": [
    "# Analyze the impact of removing a station\n",
    "station_to_remove = 'Stratford'  # Replace with the station you want to remove\n",
    "#复制一个新的G\n",
    "G_removed = G.copy()\n",
    "G_removed.remove_node(station_to_remove)"
   ]
  },
  {
   "cell_type": "code",
   "execution_count": 15,
   "id": "b1486b64-5c53-413f-9912-50278be1f7f2",
   "metadata": {},
   "outputs": [
    {
     "name": "stdout",
     "output_type": "stream",
     "text": [
      "\n",
      "Network Properties after removing the station:\n",
      "Connected: True\n",
      "Global Efficiency: 0.6922057812149586\n"
     ]
    }
   ],
   "source": [
    "# Calculate network properties after removing the station\n",
    "connected_removed, avg_shortest_path_removed, efficiency_removed = network_properties(G_removed)\n",
    "print(\"\\nNetwork Properties after removing the station:\")\n",
    "print(f\"Connected: {connected_removed}\")\n",
    "#print(f\"Average Shortest Path Length: {avg_shortest_path_removed}\")\n",
    "print(f\"Global Efficiency: {efficiency_removed}\")"
   ]
  },
  {
   "cell_type": "code",
   "execution_count": 16,
   "id": "4931ebc0-6cc1-4962-8938-8d35cd492221",
   "metadata": {},
   "outputs": [
    {
     "name": "stdout",
     "output_type": "stream",
     "text": [
      "\n",
      "Impact of removing the station:\n",
      "Connected: True\n",
      "Global Efficiency: -0.005491141157937474\n"
     ]
    }
   ],
   "source": [
    "# Compare the results\n",
    "print(\"\\nImpact of removing the station:\")\n",
    "print(f\"Connected: {connected_removed == connected}\")\n",
    "#print(f\"Average Shortest Path Length: {avg_shortest_path_removed - avg_shortest_path if connected_removed else 'N/A'}\")\n",
    "print(f\"Global Efficiency: {efficiency_removed - efficiency   }\")"
   ]
  },
  {
   "cell_type": "markdown",
   "id": "dc30d25e-e88f-4c44-adee-e1ac59199529",
   "metadata": {},
   "source": [
    "Explanation of results:\n",
    "\n",
    "Robustness:\n",
    "Connected (True/False) - This indicator represents the connectivity of the network after removing a station. If the network remains connected (True), it suggests that the network is robust, as it can maintain its connectivity despite the removal of a node.\n",
    "\n",
    "Efficiency:\n",
    "Average Shortest Path Length - This metric indicates the average shortest path length between all pairs of stations in the network. A shorter average path length typically corresponds to a more efficient network, as it implies that stations can be reached more quickly on average.\n",
    "Global Efficiency - This measure represents the average inverse shortest path length. A higher global efficiency value indicates a more efficient network, as it means that the network is better at facilitating traffic flow between stations."
   ]
  },
  {
   "cell_type": "markdown",
   "id": "5cae288c-6d4d-4118-a626-dacaa985e204",
   "metadata": {},
   "source": [
    "Reson for they could also be used to evaluate the resilience of any other network:\n",
    "\n",
    "Connectivity (Robustness):\n",
    "Connectivity is a global measure because it evaluates the network as a whole, assessing whether there is a path between every pair of nodes in the network. When the network remains connected after removing a node, it indicates that the network can still maintain its overall structure and function. This measure is not specific to any particular node or link but rather describes the property of the entire network.\n",
    "\n",
    "Average Shortest Path Length (Efficiency):\n",
    "This measure is a global metric because it computes the average of the shortest paths between all pairs of nodes in the network. It does not focus on a single node or link but considers the overall efficiency of the network in terms of how quickly nodes can be reached from one another.\n",
    "\n",
    "Global Efficiency (Efficiency):\n",
    "Global efficiency is the average of the inverse shortest path lengths between all pairs of nodes in the network. It is a global measure because it considers the entire network's ability to facilitate traffic flow betw"
   ]
  },
  {
   "cell_type": "code",
   "execution_count": null,
   "id": "c222367d-7b1b-4c9e-a73c-c0fd694d355b",
   "metadata": {},
   "outputs": [],
   "source": []
  }
 ],
 "metadata": {
  "kernelspec": {
   "display_name": "Python 3 (ipykernel)",
   "language": "python",
   "name": "python3"
  },
  "language_info": {
   "codemirror_mode": {
    "name": "ipython",
    "version": 3
   },
   "file_extension": ".py",
   "mimetype": "text/x-python",
   "name": "python",
   "nbconvert_exporter": "python",
   "pygments_lexer": "ipython3",
   "version": "3.10.5"
  }
 },
 "nbformat": 4,
 "nbformat_minor": 5
}
